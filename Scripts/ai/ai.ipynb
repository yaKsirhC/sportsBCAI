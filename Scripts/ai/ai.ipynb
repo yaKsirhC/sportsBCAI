{
 "cells": [
  {
   "cell_type": "code",
   "execution_count": 19,
   "metadata": {},
   "outputs": [],
   "source": [
    "import torch\n",
    "from sklearn.model_selection import train_test_split\n",
    "import json\n",
    "import numpy as np\n",
    "from sklearn.pipeline import Pipeline\n",
    "from sklearn.neighbors import KNeighborsClassifier, KNeighborsTransformer\n",
    "from sklearn.linear_model import LinearRegression\n",
    "from sklearn.preprocessing import PolynomialFeatures, StandardScaler, MinMaxScaler, RobustScaler"
   ]
  },
  {
   "cell_type": "code",
   "execution_count": 6,
   "metadata": {},
   "outputs": [],
   "source": [
    "match_data = []\n",
    "\n",
    "with open('list_data.json') as f:\n",
    "  data = json.loads(f.read())\n",
    "  match_data = data\n",
    "matches_teams = list(map( lambda mt: mt[0] , match_data))\n",
    "match_scores = list(map( lambda mt: mt[1] , match_data))"
   ]
  },
  {
   "cell_type": "code",
   "execution_count": 15,
   "metadata": {},
   "outputs": [],
   "source": [
    "y = torch.tensor(match_scores, dtype=torch.float)\n",
    "filler = np.zeros((19)).tolist()\n",
    "\n",
    "for match_teams in matches_teams:\n",
    "    team1 = match_teams[0]\n",
    "    team2 = match_teams[1]\n",
    "    for i in range(12-len(team1)):\n",
    "        team1.append(filler)\n",
    "    for i in range(12-len(team2)):\n",
    "        team2.append(filler)\n",
    "\n",
    "    \n",
    "X = np.array(matches_teams, dtype=np.float32)\n",
    "y=np.array(y, dtype=np.uint8)\n",
    "\n",
    "X_train, X_test, y_train, y_test = train_test_split(X, y, test_size=.2, random_state=42 )"
   ]
  },
  {
   "cell_type": "code",
   "execution_count": 35,
   "metadata": {},
   "outputs": [
    {
     "data": {
      "text/plain": [
       "0.8387096774193549"
      ]
     },
     "execution_count": 35,
     "metadata": {},
     "output_type": "execute_result"
    }
   ],
   "source": [
    "model = Pipeline([\n",
    "    ('scale1', StandardScaler()),\n",
    "    ('knn2', KNeighborsClassifier(n_neighbors=1))\n",
    "])\n",
    "nsamples, ni,nj,nk = X_train.shape\n",
    "\n",
    "nsamples1, ni1,nj1,nk1 = X_test.shape\n",
    "\n",
    "X_reshaped_train = X_train.reshape((nsamples,nj*nk*ni))\n",
    "\n",
    "X_reshaped_test = X_test.reshape((nsamples1,nj1*nk1*ni1))\n",
    "\n",
    "model.fit(X_reshaped_train, y_train)\n",
    "model.score(X_reshaped_test, y_test)"
   ]
  }
 ],
 "metadata": {
  "kernelspec": {
   "display_name": "venv",
   "language": "python",
   "name": "python3"
  },
  "language_info": {
   "codemirror_mode": {
    "name": "ipython",
    "version": 3
   },
   "file_extension": ".py",
   "mimetype": "text/x-python",
   "name": "python",
   "nbconvert_exporter": "python",
   "pygments_lexer": "ipython3",
   "version": "3.10.6"
  },
  "orig_nbformat": 4
 },
 "nbformat": 4,
 "nbformat_minor": 2
}
